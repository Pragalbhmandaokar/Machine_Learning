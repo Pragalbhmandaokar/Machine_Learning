{
 "cells": [
  {
   "cell_type": "markdown",
   "metadata": {
    "id": "eZrEVcd6cqTs"
   },
   "source": [
    "## Your Name:\n",
    "## The project I attempted was: (1) Tabular, (2) Image, (3) Text, (4) Time-series\n",
    "(please delete as appropriate)"
   ]
  },
  {
   "cell_type": "markdown",
   "metadata": {
    "id": "bbN5C3u52T3T"
   },
   "source": [
    "# CSC8111 Coursework Specification\n",
    "\n",
    "For this coursework you will perform **THREE** short questions which cover the breadth of the machine learning module along with attempting **ONE** of the four longer project-style questions. All of the short tasks and longer project-style questions can be found in this notebook. You should provide all of your answers in this notebook and submit it to Canvas before the submission deadline.\n",
    "\n",
    "The learning objectives of these short questions are:\n",
    "- To demonstrate a wide-range of machine learning skills.\n",
    "- To be able to apply the most appropriate approach at the right time."
   ]
  },
  {
   "cell_type": "markdown",
   "metadata": {
    "id": "TP7dNS643CwX"
   },
   "source": [
    "\n",
    "\n",
    "---\n",
    "## Question 1: Classification (10 marks)\n",
    "\n",
    "Load the dataset below, where X and y are the feature (input) variables and target (output) variable. Based on this dataset, build TWO classifiers using different machine learning approaches to predict the two classes in the target variable. You are free to use any appropriate machine learning models and libraries, but you need to split the dataset into training and test sets and optimise the model's hyperparameters (e.g. using GridSearchCV()). As a result, the performance metrics of the best classifier should be reported over the test set. Please follow the steps below to complete the code.\n",
    "\n",
    "The dataset is available at:\n",
    "https://ncl.instructure.com/courses/53509/files/7659751?wrap=1 and\n",
    "https://ncl.instructure.com/courses/53509/files/7659755?wrap=1\n"
   ]
  },
  {
   "cell_type": "markdown",
   "metadata": {
    "id": "nm8C4PpFrHIB"
   },
   "source": [
    "## Set up the environment and load the dataset"
   ]
  },
  {
   "cell_type": "code",
   "execution_count": 3,
   "metadata": {
    "id": "OZxqzi0vrNlc"
   },
   "outputs": [],
   "source": [
    "# just run this cell, don't change the code\n",
    "import numpy as np\n",
    "from numpy import loadtxt\n",
    "X = loadtxt('cls_X.csv', delimiter=',')\n",
    "y = loadtxt('cls_y.csv', delimiter=',')"
   ]
  },
  {
   "cell_type": "markdown",
   "metadata": {
    "id": "i_CnC7pLrUnk"
   },
   "source": [
    "## Q1.1 Split the data into training and test sets (20% for testing)"
   ]
  },
  {
   "cell_type": "code",
   "execution_count": 6,
   "metadata": {
    "id": "E7_KCvHbrbX0"
   },
   "outputs": [],
   "source": [
    "# write your code below to replace the ellipsis \"...\"\n",
    "...\n",
    "from sklearn.metrics import accuracy_score\n",
    "from sklearn.model_selection import train_test_split\n",
    "X_train, X_test, y_train, y_test = train_test_split(X,  y, test_size = 0.2, random_state = 42)"
   ]
  },
  {
   "cell_type": "markdown",
   "metadata": {
    "id": "9hNfN-wfrpy7"
   },
   "source": [
    "## Q1.2 Create your first classifier"
   ]
  },
  {
   "cell_type": "markdown",
   "metadata": {
    "id": "MoIln9tQrziM"
   },
   "source": [
    "#### Q1.2.1 First, make an attempt by using an appropriate machine learning method without optimising the hyperparameter(s). Report the model accuracy over the test set (i.e. test accuracy)."
   ]
  },
  {
   "cell_type": "code",
   "execution_count": 10,
   "metadata": {
    "id": "M8B7NYQer40j"
   },
   "outputs": [
    {
     "name": "stdout",
     "output_type": "stream",
     "text": [
      "Test Accuracy: 88.75%\n"
     ]
    }
   ],
   "source": [
    "# write your code below to replace the ellipsis \"...\"\n",
    "...\n",
    "from sklearn.svm import SVC\n",
    "from sklearn.metrics import accuracy_score\n",
    "\n",
    "# Create an SVM classifier\n",
    "svm_classifier = SVC()\n",
    "\n",
    "# Fit the classifier on the training data\n",
    "svm_classifier.fit(X_train, y_train)\n",
    "\n",
    "# Make predictions on the test data\n",
    "y_pred = svm_classifier.predict(X_test)\n",
    "\n",
    "# Calculate the accuracy\n",
    "accuracy = accuracy_score(y_test, y_pred)\n",
    "\n",
    "print(\"Test Accuracy: {:.2f}%\".format(accuracy * 100))"
   ]
  },
  {
   "cell_type": "markdown",
   "metadata": {
    "id": "Qv4TGRbir9Qj"
   },
   "source": [
    "#### Q1.2.2 Then, optimise the hyperparameter(s) using the same machine learning method as above. Report the best hyperparameter(s) and, use it to make your first classifier and print out its test accuracy."
   ]
  },
  {
   "cell_type": "code",
   "execution_count": 24,
   "metadata": {},
   "outputs": [
    {
     "name": "stderr",
     "output_type": "stream",
     "text": [
      "C:\\Users\\Rohit\\AppData\\Local\\Programs\\Python\\Python312\\Lib\\site-packages\\joblib\\externals\\loky\\process_executor.py:702: UserWarning: A worker stopped while some jobs were given to the executor. This can be caused by a too short worker timeout or by a memory leak.\n",
      "  warnings.warn(\n"
     ]
    },
    {
     "name": "stdout",
     "output_type": "stream",
     "text": [
      "Best SVM Accuracy: 87.50%\n"
     ]
    }
   ],
   "source": [
    "# write your code below to replace the ellipsis \"...\"\n",
    "...\n",
    "from sklearn.model_selection import GridSearchCV\n",
    "\n",
    "param_grid = {\n",
    "    'C': [10, 100],\n",
    "    'kernel': ['linear', 'rbf'],\n",
    "    'gamma': [0.01, 0.1, 1, 'auto'],\n",
    "    'degree': [2, 3, 4],\n",
    "    'coef0': [0, 1, 10],\n",
    "    # 'C': [0.001, 0.01, 0.1, 1, 10, 100],\n",
    "    # 'kernel': ['linear', 'poly', 'rbf', 'sigmoid'],\n",
    "    # 'gamma': ['scale', 'auto'] + [0.001, 0.01, 0.1, 1, 10],\n",
    "    # 'degree': [2, 3, 4, 5],\n",
    "    # 'coef0': [0, 1, 2, 5, 10],\n",
    "    # 'shrinking': [True, False],\n",
    "    # 'probability': [True, False],\n",
    "    # 'tol': [1e-4, 1e-3, 1e-2],\n",
    "    # 'class_weight': [None, 'balanced'],\n",
    "    # 'max_iter': [100, 500, 1000, -1]\n",
    "}\n",
    "\n",
    "svm_grid = SVC()\n",
    "\n",
    "grid_search = GridSearchCV(svm_grid, param_grid, cv=10, scoring='accuracy', n_jobs=-1)\n",
    "\n",
    "grid_search.fit(X_train, y_train)\n",
    "\n",
    "best_params = grid_search.best_params_\n",
    "\n",
    "best_svm = SVC(**best_params)\n",
    "\n",
    "best_svm.fit(X_train, y_train)\n",
    "best_svm_predictions = best_svm.predict(X_test)\n",
    "\n",
    "best_svm_score = accuracy_score(y_test, best_svm_predictions)\n",
    "best_svm_score\n",
    "\n",
    "print(\"Best SVM Accuracy: {:.2f}%\".format(best_svm_score * 100))"
   ]
  },
  {
   "cell_type": "markdown",
   "metadata": {
    "id": "a9vtXIavsR3c"
   },
   "source": [
    "## Q1.3 Create your second classifier"
   ]
  },
  {
   "cell_type": "markdown",
   "metadata": {
    "id": "7e2hW5LosXij"
   },
   "source": [
    "#### Q1.3.1 First, without optimising the hyperparameter(s), make an attempt by using a different machine learning method to the first classifier. Report the model accuracy over the test set (i.e. test accuracy)."
   ]
  },
  {
   "cell_type": "code",
   "execution_count": 7,
   "metadata": {
    "id": "xOdf70l6sdB7"
   },
   "outputs": [
    {
     "data": {
      "text/plain": [
       "0.85"
      ]
     },
     "execution_count": 7,
     "metadata": {},
     "output_type": "execute_result"
    }
   ],
   "source": [
    "# write your code below to replace the ellipsis \"...\"\n",
    "...\n",
    "from sklearn.ensemble import RandomForestClassifier\n",
    "\n",
    "rf_model = RandomForestClassifier(random_state=42)\n",
    "\n",
    "rf_model.fit(X_train, y_train)\n",
    "rf_predictions = rf_model.predict(X_test)\n",
    "\n",
    "rf_score = accuracy_score(y_test, rf_predictions)\n",
    "rf_score"
   ]
  },
  {
   "cell_type": "markdown",
   "metadata": {
    "id": "oEkKujVhshwk"
   },
   "source": [
    "#### Q1.3.2 Then, optimise the hyperparameter(s) using the same machine learning method as above. Report the best hyperparameter(s) and, use it to make your second classifier and print out its test accuracy.\n",
    "\n"
   ]
  },
  {
   "cell_type": "code",
   "execution_count": 8,
   "metadata": {
    "id": "9A7qo9PEsmyU",
    "scrolled": true
   },
   "outputs": [
    {
     "name": "stdout",
     "output_type": "stream",
     "text": [
      "Best Hyperparameters (RandomizedSearchCV): {'n_estimators': 200, 'min_samples_split': 2, 'min_samples_leaf': 1, 'max_depth': 30}\n",
      "Random Forest Accuracy (RandomizedSearchCV): 0.825\n"
     ]
    }
   ],
   "source": [
    "# write your code below to replace the ellipsis \"...\"\n",
    "...\n",
    "from sklearn.model_selection import RandomizedSearchCV\n",
    "\n",
    "# Define the parameter distributions for RandomizedSearchCV\n",
    "param_dist = {\n",
    "    'n_estimators': [50, 100, 200],\n",
    "    'max_depth': [None, 10, 20, 30],\n",
    "    'min_samples_split': [2, 5, 10],\n",
    "    'min_samples_leaf': [1, 2, 4]\n",
    "}\n",
    "\n",
    "# Create a RandomizedSearchCV object\n",
    "random_search = RandomizedSearchCV(estimator=rf_model, param_distributions=param_dist, n_iter=10, cv=5, scoring='accuracy', random_state=42, n_jobs=-1)\n",
    "\n",
    "# Fit the model to the training data\n",
    "random_search.fit(X_train, y_train)\n",
    "\n",
    "# Get the best parameters and the best model\n",
    "best_params_random = random_search.best_params_\n",
    "rf_with_params_random = random_search.best_estimator_\n",
    "\n",
    "# Make predictions on the test set using the best model\n",
    "rf_predictions_random = rf_with_params_random.predict(X_test)\n",
    "\n",
    "# Calculate accuracy score\n",
    "rf_score_random = accuracy_score(y_test, rf_predictions_random)\n",
    "\n",
    "# Print the best parameters and the accuracy score\n",
    "print(\"Best Hyperparameters (RandomizedSearchCV):\", best_params_random)\n",
    "print(\"Random Forest Accuracy (RandomizedSearchCV):\", rf_score_random)"
   ]
  },
  {
   "cell_type": "markdown",
   "metadata": {
    "id": "7b0F3CHOstgE"
   },
   "source": [
    "## Q1.4 Report the precision, recall, f1 score and confusion matrix on the best of the two classifiers"
   ]
  },
  {
   "cell_type": "code",
   "execution_count": 46,
   "metadata": {
    "id": "b8xcn_ZPsyhJ"
   },
   "outputs": [
    {
     "data": {
      "text/plain": [
       "0.8625"
      ]
     },
     "execution_count": 46,
     "metadata": {},
     "output_type": "execute_result"
    }
   ],
   "source": [
    "# write your code below to replace the ellipsis \"...\"\n",
    "...\n"
   ]
  },
  {
   "cell_type": "markdown",
   "metadata": {
    "id": "9gckRSHj3PdP"
   },
   "source": [
    "---\n",
    "## Question 2: Regression (10 marks)\n",
    "\n",
    "In this question you are given a simple dataset which you will perform regression on to predict values. You will build TWO Regression models and then take the best one and perform hyperparameter tuning on it.\n",
    "\n",
    "## Set up the environment"
   ]
  },
  {
   "cell_type": "code",
   "execution_count": null,
   "metadata": {
    "id": "W-vFlRnBa2NP"
   },
   "outputs": [],
   "source": [
    "import numpy as np\n",
    "from sklearn.model_selection import train_test_split"
   ]
  },
  {
   "cell_type": "markdown",
   "metadata": {
    "id": "end1ynOha5cg"
   },
   "source": [
    "## Read in the data\n",
    "\n",
    "You'll need to download the data.csv file from https://ncl.instructure.com/courses/53509/files/7657710?wrap=1 and upload it to your Google Drive. I placed it in a folder called data. Then you need to mount your Google Drive in Colab (cell below)."
   ]
  },
  {
   "cell_type": "code",
   "execution_count": null,
   "metadata": {
    "id": "cG7eucEW2RM9"
   },
   "outputs": [],
   "source": [
    "from google.colab import drive\n",
    "drive.mount('/content/drive')"
   ]
  },
  {
   "cell_type": "markdown",
   "metadata": {
    "id": "WwYiqGNp9X_P"
   },
   "source": [
    "Then read in the data"
   ]
  },
  {
   "cell_type": "code",
   "execution_count": null,
   "metadata": {
    "id": "pQRk-XkFa7ke"
   },
   "outputs": [],
   "source": [
    "data = np.loadtxt('/content/drive/MyDrive/data/data.csv', delimiter=',')\n",
    "print(data)"
   ]
  },
  {
   "cell_type": "markdown",
   "metadata": {
    "id": "xr0Wc-5za96b"
   },
   "source": [
    "## Q2.1 Split the data into X and y\n",
    "\n",
    "X is the first three columns\n",
    "\n",
    "y is the last column"
   ]
  },
  {
   "cell_type": "code",
   "execution_count": null,
   "metadata": {
    "id": "uXqIfwSKbBQ_"
   },
   "outputs": [],
   "source": [
    "# your answer here"
   ]
  },
  {
   "cell_type": "markdown",
   "metadata": {
    "id": "lWn0sY4MbGSc"
   },
   "source": [
    "## Q2.2 Create the Train and Test datasets\n",
    "\n",
    "20% of the data is kept back for testing"
   ]
  },
  {
   "cell_type": "code",
   "execution_count": null,
   "metadata": {
    "id": "MGffSN2bbKG6"
   },
   "outputs": [],
   "source": [
    "# your answer here"
   ]
  },
  {
   "cell_type": "markdown",
   "metadata": {
    "id": "wmtjZE2qbJrT"
   },
   "source": [
    "## Q2.3 Use TWO Regression approaches on the dataset\n",
    "\n",
    "In each case report the R^2 value against the test data."
   ]
  },
  {
   "cell_type": "markdown",
   "metadata": {
    "id": "zGk6m2CGbPZa"
   },
   "source": [
    "Q2.3.1 Regression approach 1"
   ]
  },
  {
   "cell_type": "code",
   "execution_count": null,
   "metadata": {
    "id": "itckiAcAbS5h"
   },
   "outputs": [],
   "source": [
    "# your answer here"
   ]
  },
  {
   "cell_type": "markdown",
   "metadata": {
    "id": "qsgsuh8zbTRg"
   },
   "source": [
    "Q2.3.2 Regression approach 2"
   ]
  },
  {
   "cell_type": "code",
   "execution_count": null,
   "metadata": {
    "id": "Qr6GfmwbbV5c"
   },
   "outputs": [],
   "source": [
    "# your answer here"
   ]
  },
  {
   "cell_type": "markdown",
   "metadata": {
    "id": "m3JF75BVbb7R"
   },
   "source": [
    "## Q2.4 Optimise the hyperparameters\n",
    "\n",
    "Take your best Regression approach from above and identify the best hyperparameters. Note as some Regression approaches have many hyperparameters you may limit yourself here to just THREE."
   ]
  },
  {
   "cell_type": "markdown",
   "metadata": {
    "id": "BVEVAHb6BXRt"
   },
   "source": [
    "Q2.4.1 Search for the best hyperparameters"
   ]
  },
  {
   "cell_type": "code",
   "execution_count": null,
   "metadata": {
    "id": "8ijdArC8bc46"
   },
   "outputs": [],
   "source": [
    "# your answer here"
   ]
  },
  {
   "cell_type": "markdown",
   "metadata": {
    "id": "UNW3xx80bUyR"
   },
   "source": [
    "Q2.4.2 Output the best hyperparameters found"
   ]
  },
  {
   "cell_type": "code",
   "execution_count": null,
   "metadata": {
    "id": "XqeEdsTyBf4G"
   },
   "outputs": [],
   "source": [
    "# your answer here"
   ]
  },
  {
   "cell_type": "markdown",
   "metadata": {
    "id": "LRVDmIC5blNc"
   },
   "source": [
    "Q2.4.3 Show the results for the best model"
   ]
  },
  {
   "cell_type": "code",
   "execution_count": null,
   "metadata": {
    "id": "MO5YBeW3bmCa"
   },
   "outputs": [],
   "source": [
    "# your answer here"
   ]
  },
  {
   "cell_type": "markdown",
   "metadata": {
    "id": "srmm6k8N3bHl"
   },
   "source": [
    "---\n",
    "## Question 3: Deep Learning (10 marks)"
   ]
  },
  {
   "cell_type": "markdown",
   "metadata": {
    "id": "JGLqEuqrom65"
   },
   "source": [
    "Q3.1 For MNIST dataset, implement a deep learning model with 3 hidden layers with layer size: 128, 256, 50.\n"
   ]
  },
  {
   "cell_type": "code",
   "execution_count": null,
   "metadata": {
    "id": "Qohr1fFl11AQ"
   },
   "outputs": [],
   "source": [
    "from keras.models import Sequential\n",
    "from keras.layers import Dense, Activation, Dropout\n",
    "from keras.datasets import mnist\n",
    "import keras.utils as utils\n",
    "\n",
    "batch_size = 128\n",
    "nb_classes = 10\n",
    "im_dim = 784 # the total pixel number\n",
    "nb_epoch = 2"
   ]
  },
  {
   "cell_type": "code",
   "execution_count": null,
   "metadata": {
    "id": "gKJlUuXy2MpW"
   },
   "outputs": [],
   "source": [
    "# Load MNIST dataset\n",
    "(X_train, y_train), (X_test, y_test) = mnist.load_data()\n",
    "X_train = X_train.reshape(60000, im_dim)\n",
    "X_test = X_test.reshape(10000, im_dim)\n",
    "X_train = X_train.astype('float32')\n",
    "X_test = X_test.astype('float32')\n",
    "X_train /= 255\n",
    "X_test /= 255\n",
    "Y_train = utils.to_categorical(y_train, nb_classes)\n",
    "Y_test = utils.to_categorical(y_test, nb_classes)"
   ]
  },
  {
   "cell_type": "code",
   "execution_count": null,
   "metadata": {
    "id": "mzOgmZhH2YEo"
   },
   "outputs": [],
   "source": [
    "# Write down your code about MLP model for question Q3.1 here\n",
    "# you should call your model 'model'\n",
    "# ..."
   ]
  },
  {
   "cell_type": "markdown",
   "metadata": {
    "id": "dSWAUZHhE2sS"
   },
   "source": [
    "Add code to output your network structure"
   ]
  },
  {
   "cell_type": "code",
   "execution_count": null,
   "metadata": {
    "id": "ZG7FyBFb208l"
   },
   "outputs": [],
   "source": [
    "# your code here"
   ]
  },
  {
   "cell_type": "markdown",
   "metadata": {
    "id": "g1TKigVc-q37"
   },
   "source": [
    "Train the model for just two epochs to show it works. All code provided - just run."
   ]
  },
  {
   "cell_type": "code",
   "execution_count": null,
   "metadata": {
    "id": "2l4j6djO0xPE"
   },
   "outputs": [],
   "source": [
    "# Train\n",
    "history = model.fit(X_train, Y_train, epochs=nb_epoch,\n",
    "                    validation_split = 0.2,\n",
    "                    batch_size=batch_size, verbose=1)\n",
    "\n",
    "# Evaluate\n",
    "evaluation = model.evaluate(X_test, Y_test, verbose=1)\n",
    "print('Summary: Loss over the test dataset: %.2f, Accuracy: %.2f' % (evaluation[0], evaluation[1]))"
   ]
  },
  {
   "cell_type": "markdown",
   "metadata": {
    "id": "P_QoG4wjo2-p"
   },
   "source": [
    "Q 3.2 For MNIST dataset, implement a CNN model with only one 2D CNN layer as the hidden layer."
   ]
  },
  {
   "cell_type": "code",
   "execution_count": null,
   "metadata": {
    "colab": {
     "base_uri": "https://localhost:8080/"
    },
    "id": "3_2Usx0x5AGf",
    "outputId": "8c67624e-99d6-41c5-dab3-6d79e691e495"
   },
   "outputs": [
    {
     "name": "stdout",
     "output_type": "stream",
     "text": [
      "x_train shape: (60000, 28, 28, 1)\n",
      "60000 train samples\n",
      "10000 test samples\n"
     ]
    }
   ],
   "source": [
    "import keras\n",
    "from keras.datasets import mnist\n",
    "from keras.models import Sequential\n",
    "from keras.layers import Dense, Dropout, Flatten\n",
    "from keras.layers import Conv2D, MaxPooling2D\n",
    "from keras import backend as K\n",
    "\n",
    "batch_size = 128\n",
    "num_classes = 10\n",
    "epochs = 2\n",
    "\n",
    "# the data, shuffled and split between train and test sets\n",
    "(x_train, y_train), (x_test, y_test) = mnist.load_data()\n",
    "\n",
    "# input image dimensions\n",
    "img_rows, img_cols = 28, 28\n",
    "x_train = x_train.reshape(x_train.shape[0], img_rows, img_cols, 1)\n",
    "x_test = x_test.reshape(x_test.shape[0], img_rows, img_cols, 1)\n",
    "\n",
    "x_train = x_train.astype('float32')\n",
    "x_test = x_test.astype('float32')\n",
    "x_train /= 255\n",
    "x_test /= 255\n",
    "print('x_train shape:', x_train.shape)\n",
    "print(x_train.shape[0], 'train samples')\n",
    "print(x_test.shape[0], 'test samples')\n",
    "\n",
    "# convert class vectors to binary class matrices\n",
    "y_train = keras.utils.to_categorical(y_train, num_classes)\n",
    "y_test = keras.utils.to_categorical(y_test, num_classes)"
   ]
  },
  {
   "cell_type": "code",
   "execution_count": null,
   "metadata": {
    "id": "5UjhYfvX5OCM"
   },
   "outputs": [],
   "source": [
    "# Write down your code about the CNN model of Q3.2 here\n",
    "# you should call your model 'model'\n",
    "# ..."
   ]
  },
  {
   "cell_type": "markdown",
   "metadata": {
    "id": "lZpz9nRi5lj9"
   },
   "source": [
    "Add code to output your network structure"
   ]
  },
  {
   "cell_type": "code",
   "execution_count": null,
   "metadata": {
    "id": "zlhSLt6U5nLF"
   },
   "outputs": [],
   "source": [
    "# your code here"
   ]
  },
  {
   "cell_type": "markdown",
   "metadata": {
    "id": "Z4mhkn4N5Tq3"
   },
   "source": [
    "We just train for two epochs to demonstrate that the network does work. Just run it."
   ]
  },
  {
   "cell_type": "code",
   "execution_count": null,
   "metadata": {
    "id": "wEkhYk7npCun"
   },
   "outputs": [],
   "source": [
    "history = model.fit(x_train, y_train, batch_size=batch_size, epochs=epochs,\n",
    "              verbose=1, shuffle=True,\n",
    "              validation_split = 0.2)\n",
    "score = model.evaluate(x_test, y_test, verbose=0)\n",
    "print('Summary: Loss over the test dataset: %.2f, Accuracy: %.2f' % (score[0], score[1]))"
   ]
  },
  {
   "cell_type": "markdown",
   "metadata": {
    "id": "rIwvxKzo4Cnp"
   },
   "source": [
    "---\n",
    "---\n",
    "---\n",
    "#Mini-projects: Introduction\n",
    "\n",
    "The remainder of this document defines four project-style questions which go more deeply into one of the areas from the module. You should pick **ONE** of these project-stye questions to answer.\n",
    "\n",
    "The learning objectives of this assignment are:\n",
    "1. To learn about the design of machine learning analysis pipelines\n",
    "2. To understand how to select appropriate methods given the dataset type\n",
    "3. To learn how to conduct machine learning experimentation in a rigorous and effective manner\n",
    "4. To critically evaluate the performance of the designed machine learning pipelines\n",
    "5. To learn and practice the skills of reporting machine learning experiments\n",
    "\n",
    "For this coursework you will be provided with a choice of four different datasets of different nature\n",
    "1. A tabular dataset (defined as a classification problem)\n",
    "2. An image dataset\n",
    "3. A text dataset\n",
    "4. A time series dataset\n",
    "\n",
    "Your job is easy to state: You should pick ONE out of these four options and design a range of machine learning pipelines appropriate to the nature of each of the selected datasets. Overall, we expect that you will perform a thorough investigation involving (whenever relevant) all parts of a machine learning pipeline (exploration, preprocessing, model training, model interpretation and evaluation), evaluating a range of options for all parts of the pipeline and with proper hyperparameter tuning.\n",
    "\n",
    "You will have to write a short report (as part of this notebook) that presents the experiments you did, their justification, a detailed description of the performance of your designed pipelines using the most appropriate presentation tools (e.g., tables of results, plots). We expect that you should be able to present your work at a level of detail that would enable a fellow student to reproduce your steps.\n",
    "\n",
    "## Deliverables\n",
    "An inline report and code blocks addressing the marking scheme below. The report should have 1000 to 2000 words. The word count excludes references, tables, figures and section headers, and has a 10% leeway.\n",
    "\n",
    "## Marking scheme\n",
    "\n",
    "- Writing Style, references, figures, etc. 7 marks\n",
    "- Dataset exploration 7 marks\n",
    "- Methods 21 marks\n",
    "- Results of analysis 21 marks\n",
    "- Discussion 14 marks"
   ]
  },
  {
   "cell_type": "markdown",
   "metadata": {
    "id": "YFvmBHNN4ZAx"
   },
   "source": [
    "---\n",
    "---\n",
    "## Project 1: Tabular dataset (70 marks)\n",
    "\n",
    "The dataset, called FARS, is a collection of statistics of US road traffic accidents. The class label is about the severity of the accident. It has 20 features and over 100K examples. The dataset is available in Canvas as a CSV file, in which the last column contains the class labels: https://ncl.instructure.com/courses/53509/files/7652449/download?download_frd=1\n",
    "\n",
    "Experiments on the tabular dataset will be relatively fast compared to the other three options. To compensate, we expect that you evaluate a very broad range of options for the design of your machine learning pipelines, including (but not limited to) data normalisation, feature/instance selection, class imbalance correction, several (appropriate) machine learning models, hyperparameter tuning and cross-validation evaluation."
   ]
  },
  {
   "cell_type": "markdown",
   "metadata": {
    "id": "xDPwGIZYWNG5"
   },
   "source": [
    "## Your answer below"
   ]
  },
  {
   "cell_type": "code",
   "execution_count": 3,
   "metadata": {},
   "outputs": [
    {
     "name": "stdout",
     "output_type": "stream",
     "text": [
      "Collecting imbalanced-learn\n",
      "  Downloading imbalanced_learn-0.11.0-py3-none-any.whl.metadata (8.3 kB)\n",
      "Requirement already satisfied: numpy>=1.17.3 in c:\\users\\rohit\\appdata\\local\\programs\\python\\python312\\lib\\site-packages (from imbalanced-learn) (1.26.2)\n",
      "Requirement already satisfied: scipy>=1.5.0 in c:\\users\\rohit\\appdata\\local\\programs\\python\\python312\\lib\\site-packages (from imbalanced-learn) (1.11.4)\n",
      "Requirement already satisfied: scikit-learn>=1.0.2 in c:\\users\\rohit\\appdata\\local\\programs\\python\\python312\\lib\\site-packages (from imbalanced-learn) (1.3.2)\n",
      "Requirement already satisfied: joblib>=1.1.1 in c:\\users\\rohit\\appdata\\local\\programs\\python\\python312\\lib\\site-packages (from imbalanced-learn) (1.1.1)\n",
      "Requirement already satisfied: threadpoolctl>=2.0.0 in c:\\users\\rohit\\appdata\\local\\programs\\python\\python312\\lib\\site-packages (from imbalanced-learn) (3.2.0)\n",
      "Downloading imbalanced_learn-0.11.0-py3-none-any.whl (235 kB)\n",
      "   ---------------------------------------- 0.0/235.6 kB ? eta -:--:--\n",
      "   ----- --------------------------------- 30.7/235.6 kB 660.6 kB/s eta 0:00:01\n",
      "   ----------------------------- ---------- 174.1/235.6 kB 2.6 MB/s eta 0:00:01\n",
      "   ---------------------------------------  235.5/235.6 kB 2.1 MB/s eta 0:00:01\n",
      "   ---------------------------------------- 235.6/235.6 kB 1.8 MB/s eta 0:00:00\n",
      "Installing collected packages: imbalanced-learn\n",
      "Successfully installed imbalanced-learn-0.11.0\n",
      "Note: you may need to restart the kernel to use updated packages.\n"
     ]
    }
   ],
   "source": [
    "pip install imbalanced-learn"
   ]
  },
  {
   "cell_type": "code",
   "execution_count": 4,
   "metadata": {},
   "outputs": [
    {
     "name": "stdout",
     "output_type": "stream",
     "text": [
      "Requirement already satisfied: xgboost in c:\\users\\rohit\\appdata\\local\\programs\\python\\python312\\lib\\site-packages (2.0.2)\n",
      "Requirement already satisfied: numpy in c:\\users\\rohit\\appdata\\local\\programs\\python\\python312\\lib\\site-packages (from xgboost) (1.26.2)\n",
      "Requirement already satisfied: scipy in c:\\users\\rohit\\appdata\\local\\programs\\python\\python312\\lib\\site-packages (from xgboost) (1.11.4)\n",
      "Note: you may need to restart the kernel to use updated packages.\n"
     ]
    }
   ],
   "source": [
    "pip install xgboost"
   ]
  },
  {
   "cell_type": "code",
   "execution_count": 5,
   "metadata": {},
   "outputs": [
    {
     "name": "stdout",
     "output_type": "stream",
     "text": [
      "Requirement already satisfied: imbalanced-learn in c:\\users\\rohit\\appdata\\local\\programs\\python\\python312\\lib\\site-packages (0.11.0)\n",
      "Requirement already satisfied: xgboost in c:\\users\\rohit\\appdata\\local\\programs\\python\\python312\\lib\\site-packages (2.0.2)\n",
      "Requirement already satisfied: numpy>=1.17.3 in c:\\users\\rohit\\appdata\\local\\programs\\python\\python312\\lib\\site-packages (from imbalanced-learn) (1.26.2)\n",
      "Requirement already satisfied: scipy>=1.5.0 in c:\\users\\rohit\\appdata\\local\\programs\\python\\python312\\lib\\site-packages (from imbalanced-learn) (1.11.4)\n",
      "Requirement already satisfied: scikit-learn>=1.0.2 in c:\\users\\rohit\\appdata\\local\\programs\\python\\python312\\lib\\site-packages (from imbalanced-learn) (1.3.2)\n",
      "Requirement already satisfied: joblib>=1.1.1 in c:\\users\\rohit\\appdata\\local\\programs\\python\\python312\\lib\\site-packages (from imbalanced-learn) (1.1.1)\n",
      "Requirement already satisfied: threadpoolctl>=2.0.0 in c:\\users\\rohit\\appdata\\local\\programs\\python\\python312\\lib\\site-packages (from imbalanced-learn) (3.2.0)\n"
     ]
    }
   ],
   "source": [
    "!pip install imbalanced-learn xgboost"
   ]
  },
  {
   "cell_type": "code",
   "execution_count": 3,
   "metadata": {
    "id": "9kwhWir0WQj-"
   },
   "outputs": [
    {
     "name": "stdout",
     "output_type": "stream",
     "text": [
      "Data normalization in progress...\n",
      "Data normalization completed.\n",
      "Feature selection in progress...\n",
      "Feature selection completed.\n"
     ]
    },
    {
     "name": "stderr",
     "output_type": "stream",
     "text": [
      "Model Progress:   0%|                                                                            | 0/2 [00:00<?, ?it/s]"
     ]
    },
    {
     "name": "stdout",
     "output_type": "stream",
     "text": [
      "\n",
      "Training RandomForest...\n"
     ]
    },
    {
     "name": "stderr",
     "output_type": "stream",
     "text": [
      "Model Progress:  50%|█████████████████████████████████▌                                 | 1/2 [03:06<03:06, 186.76s/it]"
     ]
    },
    {
     "name": "stdout",
     "output_type": "stream",
     "text": [
      "RandomForest training completed.\n",
      "\n",
      "Training KNN...\n"
     ]
    },
    {
     "name": "stderr",
     "output_type": "stream",
     "text": [
      "Model Progress: 100%|███████████████████████████████████████████████████████████████████| 2/2 [03:55<00:00, 117.88s/it]"
     ]
    },
    {
     "name": "stdout",
     "output_type": "stream",
     "text": [
      "KNN training completed.\n",
      "\n",
      "Evaluating RandomForest...\n"
     ]
    },
    {
     "name": "stderr",
     "output_type": "stream",
     "text": [
      "\n",
      "C:\\Users\\Rohit\\AppData\\Local\\Programs\\Python\\Python312\\Lib\\site-packages\\sklearn\\metrics\\_classification.py:1471: UndefinedMetricWarning: Precision and F-score are ill-defined and being set to 0.0 in labels with no predicted samples. Use `zero_division` parameter to control this behavior.\n",
      "  _warn_prf(average, modifier, msg_start, len(result))\n",
      "C:\\Users\\Rohit\\AppData\\Local\\Programs\\Python\\Python312\\Lib\\site-packages\\sklearn\\metrics\\_classification.py:1471: UndefinedMetricWarning: Precision and F-score are ill-defined and being set to 0.0 in labels with no predicted samples. Use `zero_division` parameter to control this behavior.\n",
      "  _warn_prf(average, modifier, msg_start, len(result))\n",
      "C:\\Users\\Rohit\\AppData\\Local\\Programs\\Python\\Python312\\Lib\\site-packages\\sklearn\\metrics\\_classification.py:1471: UndefinedMetricWarning: Precision and F-score are ill-defined and being set to 0.0 in labels with no predicted samples. Use `zero_division` parameter to control this behavior.\n",
      "  _warn_prf(average, modifier, msg_start, len(result))\n"
     ]
    },
    {
     "name": "stdout",
     "output_type": "stream",
     "text": [
      "Model: RandomForest\n",
      "Accuracy: 0.4840\n",
      "Classification Report:\n",
      "                                precision    recall  f1-score   support\n",
      "\n",
      "        Died_Prior_to_Accident       0.00      0.00      0.00         2\n",
      "                  Fatal_Injury       0.65      0.80      0.72      8473\n",
      "           Incapaciting_Injury       0.28      0.20      0.23      3061\n",
      "      Injured_Severity_Unknown       1.00      0.01      0.02        79\n",
      "                     No_Injury       0.31      0.57      0.40      3989\n",
      "Nonincapaciting_Evident_Injury       0.31      0.00      0.00      2743\n",
      "               Possible_Injury       0.31      0.00      0.00      1673\n",
      "                       Unknown       0.53      0.27      0.36       174\n",
      "\n",
      "                      accuracy                           0.48     20194\n",
      "                     macro avg       0.42      0.23      0.22     20194\n",
      "                  weighted avg       0.45      0.48      0.42     20194\n",
      "\n",
      "\n",
      "\n",
      "RandomForest evaluation completed.\n",
      "\n",
      "Evaluating KNN...\n"
     ]
    },
    {
     "name": "stderr",
     "output_type": "stream",
     "text": [
      "C:\\Users\\Rohit\\AppData\\Local\\Programs\\Python\\Python312\\Lib\\site-packages\\sklearn\\metrics\\_classification.py:1471: UndefinedMetricWarning: Precision and F-score are ill-defined and being set to 0.0 in labels with no predicted samples. Use `zero_division` parameter to control this behavior.\n",
      "  _warn_prf(average, modifier, msg_start, len(result))\n"
     ]
    },
    {
     "name": "stdout",
     "output_type": "stream",
     "text": [
      "Model: KNN\n",
      "Accuracy: 0.4342\n",
      "Classification Report:\n",
      "                                precision    recall  f1-score   support\n",
      "\n",
      "        Died_Prior_to_Accident       0.00      0.00      0.00         2\n",
      "                  Fatal_Injury       0.56      0.81      0.67      8473\n",
      "           Incapaciting_Injury       0.23      0.18      0.20      3061\n",
      "      Injured_Severity_Unknown       0.00      0.00      0.00        79\n",
      "                     No_Injury       0.28      0.22      0.24      3989\n",
      "Nonincapaciting_Evident_Injury       0.20      0.13      0.16      2743\n",
      "               Possible_Injury       0.13      0.03      0.05      1673\n",
      "                       Unknown       0.24      0.57      0.33       174\n",
      "\n",
      "                      accuracy                           0.43     20194\n",
      "                     macro avg       0.20      0.24      0.21     20194\n",
      "                  weighted avg       0.37      0.43      0.39     20194\n",
      "\n",
      "\n",
      "\n",
      "KNN evaluation completed.\n"
     ]
    },
    {
     "name": "stderr",
     "output_type": "stream",
     "text": [
      "C:\\Users\\Rohit\\AppData\\Local\\Programs\\Python\\Python312\\Lib\\site-packages\\sklearn\\metrics\\_classification.py:1471: UndefinedMetricWarning: Precision and F-score are ill-defined and being set to 0.0 in labels with no predicted samples. Use `zero_division` parameter to control this behavior.\n",
      "  _warn_prf(average, modifier, msg_start, len(result))\n",
      "C:\\Users\\Rohit\\AppData\\Local\\Programs\\Python\\Python312\\Lib\\site-packages\\sklearn\\metrics\\_classification.py:1471: UndefinedMetricWarning: Precision and F-score are ill-defined and being set to 0.0 in labels with no predicted samples. Use `zero_division` parameter to control this behavior.\n",
      "  _warn_prf(average, modifier, msg_start, len(result))\n"
     ]
    }
   ],
   "source": [
    "import pandas as pd\n",
    "from sklearn.model_selection import train_test_split, GridSearchCV\n",
    "from sklearn.preprocessing import StandardScaler\n",
    "from sklearn.feature_selection import SelectKBest, f_classif\n",
    "from sklearn.ensemble import RandomForestClassifier\n",
    "from sklearn.svm import SVC\n",
    "from sklearn.neighbors import KNeighborsClassifier\n",
    "from xgboost import XGBClassifier\n",
    "from sklearn.metrics import accuracy_score, classification_report\n",
    "from tqdm import tqdm\n",
    "\n",
    "# Load the dataset\n",
    "data = pd.read_csv('fars.csv')\n",
    "\n",
    "# Identify features and target variable\n",
    "X = data.iloc[:, :-1]  # Assuming the last column is the target variable\n",
    "y = data.iloc[:, -1]\n",
    "\n",
    "# Exclude non-numeric columns for scaling\n",
    "numeric_cols = X.select_dtypes(include=['number']).columns\n",
    "X_numeric = X[numeric_cols]\n",
    "\n",
    "# Split the data into training and testing sets\n",
    "X_train, X_test, y_train, y_test = train_test_split(X_numeric, y, test_size=0.2, random_state=42)\n",
    "\n",
    "# Data Normalization\n",
    "print(\"Data normalization in progress...\")\n",
    "scaler = StandardScaler()\n",
    "X_train_scaled = scaler.fit_transform(X_train)\n",
    "X_test_scaled = scaler.transform(X_test)\n",
    "print(\"Data normalization completed.\")\n",
    "\n",
    "# Feature Selection\n",
    "print(\"Feature selection in progress...\")\n",
    "selector = SelectKBest(f_classif, k=5)  # Select top 5 features based on ANOVA F-statistic\n",
    "X_train_selected = selector.fit_transform(X_train_scaled, y_train)\n",
    "X_test_selected = selector.transform(X_test_scaled)\n",
    "print(\"Feature selection completed.\")\n",
    "\n",
    "# Model Selection and Hyperparameter Tuning using GridSearchCV\n",
    "models = {\n",
    "    'RandomForest': RandomForestClassifier(),\n",
    "    # 'SVM': SVC(),\n",
    "    'KNN': KNeighborsClassifier(),\n",
    "    # 'XGBoost': XGBClassifier()\n",
    "}\n",
    "\n",
    "param_grids = {\n",
    "    'RandomForest': {'n_estimators': [50, 100, 200], 'max_depth': [None, 10, 20]},\n",
    "    # 'SVM': {'C': [0.1, 1, 10], 'kernel': ['linear', 'rbf']},\n",
    "    'KNN': {'n_neighbors': [3, 5, 7], 'weights': ['uniform', 'distance']},\n",
    "    # 'XGBoost': {'learning_rate': [0.01, 0.1, 0.2], 'n_estimators': [100, 200, 300], 'max_depth': [3, 4, 5]}\n",
    "}\n",
    "\n",
    "best_models = {}\n",
    "\n",
    "for model_name, model in tqdm(models.items(), desc='Model Progress'):\n",
    "    print(f\"\\nTraining {model_name}...\")\n",
    "    grid_search = GridSearchCV(model, param_grids[model_name], cv=5, scoring='accuracy')\n",
    "    grid_search.fit(X_train_selected, y_train)\n",
    "    best_models[model_name] = grid_search.best_estimator_\n",
    "    print(f\"{model_name} training completed.\")\n",
    "\n",
    "# Model Evaluation\n",
    "for model_name, model in best_models.items():\n",
    "    print(f\"\\nEvaluating {model_name}...\")\n",
    "    y_pred = model.predict(X_test_selected)\n",
    "    accuracy = accuracy_score(y_test, y_pred)\n",
    "    report = classification_report(y_test, y_pred)\n",
    "\n",
    "    print(f\"Model: {model_name}\")\n",
    "    print(f\"Accuracy: {accuracy:.4f}\")\n",
    "    print(\"Classification Report:\")\n",
    "    print(report)\n",
    "    print(\"\\n\")\n",
    "    print(f\"{model_name} evaluation completed.\")\n"
   ]
  },
  {
   "cell_type": "markdown",
   "metadata": {},
   "source": [
    "hi"
   ]
  },
  {
   "cell_type": "markdown",
   "metadata": {
    "id": "zlJKjLzA6mD-"
   },
   "source": [
    "---\n",
    "---\n",
    "## Project 2: Image dataset (70 marks)\n",
    "\n",
    "The FMNISTMash dataset is an extension to the FMNIST dataset. In each 3-colour channel image there is one FMNIST image in each channel (see example below). The idea is to predict the number of unique classes in the three channels (0 - all images are of the same class, 1 - two different classes, 2 - three different classes). So for the example image there is a top and two jackets so lable is 1. Please download the data from:\n",
    "\n",
    "|Data| URL|\n",
    "|---|------|\n",
    "|Train X | http://homepages.cs.ncl.ac.uk/stephen.mcgough/data/FMNISTMash/train_x.npy |\n",
    "| Train y | http://homepages.cs.ncl.ac.uk/stephen.mcgough/data/FMNISTMash/train_x.npy |\n",
    "| Validate X | http://homepages.cs.ncl.ac.uk/stephen.mcgough/data/FMNISTMash/valid_x.npy |\n",
    "| Validate y | http://homepages.cs.ncl.ac.uk/stephen.mcgough/data/FMNISTMash/valid_y.npy |\n",
    "| Test X | http://homepages.cs.ncl.ac.uk/stephen.mcgough/data/FMNISTMash/test_x.npy |\n",
    "| Test y | http://homepages.cs.ncl.ac.uk/stephen.mcgough/data/FMNISTMash/test_y.npy |\n",
    "\n",
    "![Unknown.png](data:image/png;base64,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)\n",
    "Figure 1: Example image from the FMNISTMash dataset, class label is 1\n",
    "\n",
    "Your task is to produce TWO models for predicting the class of the image. Note: you can do ONE model which splits the image into its separate colour channels and performs a classification on them separately, but the other MUST work on all three chanels together.\n",
    "\n",
    "Some hints:\n",
    "- The code below shows you how to load and view the data.\n",
    "- To speed up your work here are some hints (assuming you’re using Colab):\n",
    " - Make sure you set the Runtime type to either GPU or TPU.\n",
    " - Copy the data to your Google drive so you don’t have to keep uploading it. Full information on how to do this can be found at: https://colab.research.google.com/notebooks/io.ipynb\n",
    " - As the dataset is large you might want to do some of your initial testing on a subset of the data."
   ]
  },
  {
   "cell_type": "markdown",
   "metadata": {
    "id": "fObVBMkBU7iQ"
   },
   "source": [
    "To load the data, we reccomend storing it in your Google Drive, this means you won't need to load it into the local colab storage every time you open the notebook.\n",
    "\n",
    "The following import will allow your notebook to connect to Google Drive. When you run this cell a seperate window will pop up asking you to grant Drive access to colab. Grant it access to the account which contains FMNISTMash"
   ]
  },
  {
   "cell_type": "markdown",
   "metadata": {
    "id": "maMCx1-mVNJD"
   },
   "source": [
    "## Load the data\n",
    "\n",
    "The dataset is stored as six Numpy files, so to load them we will need to import Numpy. Before loading each file into its own vaiable.\n",
    "\n",
    "**Note: you'll need to change the location of the file to wherever you stroed your files.**"
   ]
  },
  {
   "cell_type": "code",
   "execution_count": null,
   "metadata": {
    "id": "fmI3GgryVUs2"
   },
   "outputs": [],
   "source": [
    "import numpy as np\n",
    "\n",
    "train_x = np.load('/content/drive/MyDrive/data/FMNISTMash/train_x.npy', allow_pickle = True)\n",
    "train_y = np.load('/content/drive/MyDrive/data/FMNISTMash/train_y.npy', allow_pickle = True)\n",
    "valid_x = np.load('/content/drive/MyDrive/data/FMNISTMash/valid_x.npy', allow_pickle = True)\n",
    "valid_y = np.load('/content/drive/MyDrive/data/FMNISTMash/valid_y.npy', allow_pickle = True)\n",
    "test_x = np.load('/content/drive/MyDrive/data/FMNISTMash/test_x.npy', allow_pickle = True)\n",
    "test_y = np.load('/content/drive/MyDrive/data/FMNISTMash/test_y.npy', allow_pickle = True)"
   ]
  },
  {
   "cell_type": "markdown",
   "metadata": {
    "id": "qQlUFUg4Vld_"
   },
   "source": [
    "## Check the shape of the data\n",
    "Make sure the data is loaded and in the shape that you expect, FMNISTMash has 50,000 training images, 10,000 validation images, and 10,000 testing images."
   ]
  },
  {
   "cell_type": "code",
   "execution_count": null,
   "metadata": {
    "colab": {
     "base_uri": "https://localhost:8080/"
    },
    "id": "ZqyBcOgIVsFa",
    "outputId": "0b1075cc-6103-4ec8-9f6f-6c4e614f89f1"
   },
   "outputs": [
    {
     "name": "stdout",
     "output_type": "stream",
     "text": [
      "train_x shape: (50000, 3, 28, 28)\n",
      "train_y shape: (50000,)\n",
      "valid_x shape: (10000, 3, 28, 28)\n",
      "valid_y shape: (10000,)\n",
      "test_x shape: (10000, 3, 28, 28)\n",
      "test_y shape: (10000,)\n"
     ]
    }
   ],
   "source": [
    "print(f'train_x shape: {train_x.shape}')\n",
    "print(f'train_y shape: {train_y.shape}')\n",
    "print(f'valid_x shape: {valid_x.shape}')\n",
    "print(f'valid_y shape: {valid_y.shape}')\n",
    "print(f'test_x shape: {test_x.shape}')\n",
    "print(f'test_y shape: {test_y.shape}')"
   ]
  },
  {
   "cell_type": "markdown",
   "metadata": {
    "id": "n6Fx1rjOVzsB"
   },
   "source": [
    "## Displaying the Images"
   ]
  },
  {
   "cell_type": "markdown",
   "metadata": {
    "id": "ml4trjkTOhKY"
   },
   "source": [
    "### Displaying the single image\n",
    "\n",
    "To display the images we are going to be using MatPlotLib, so we need to import that, standard practice is to import it as plt"
   ]
  },
  {
   "cell_type": "code",
   "execution_count": null,
   "metadata": {
    "id": "u5q5Lf4lV6jw"
   },
   "outputs": [],
   "source": [
    "import matplotlib.pyplot as plt"
   ]
  },
  {
   "cell_type": "markdown",
   "metadata": {
    "id": "8sA2dmd8PZxb"
   },
   "source": [
    "The following two functions aren't necessary, they simply remove the axis ticks and numbers from the rendered image and perform some normalisation to the image."
   ]
  },
  {
   "cell_type": "code",
   "execution_count": null,
   "metadata": {
    "id": "GVCTsoTjPdQk"
   },
   "outputs": [],
   "source": [
    "def disable_ax_ticks(ax):\n",
    "    ax.set_xticks([])\n",
    "    ax.set_xticks([], minor=True)\n",
    "    ax.set_yticks([])\n",
    "    ax.set_yticks([], minor=True)"
   ]
  },
  {
   "cell_type": "code",
   "execution_count": null,
   "metadata": {
    "id": "ZdtuuxU-PfrE"
   },
   "outputs": [],
   "source": [
    "def image_normalisation(arr):\n",
    "    return (arr - arr.min())/(arr.max()-arr.min())"
   ]
  },
  {
   "cell_type": "markdown",
   "metadata": {
    "id": "Hnko-gUTPlt0"
   },
   "source": [
    "We construct the figure using plt, pyplot expects the colour channel to be last, the data is saved in a channels_first format so needs to be converted which is what we used np.move_axis for."
   ]
  },
  {
   "cell_type": "code",
   "execution_count": null,
   "metadata": {
    "id": "ioVxAOdMPm7N"
   },
   "outputs": [],
   "source": [
    "def display_image(x, y):\n",
    "    fig = plt.figure()\n",
    "    main_ax = fig.add_subplot()\n",
    "    fig.suptitle('label = '+ str(y))\n",
    "    main_ax.imshow(image_normalisation(np.moveaxis(x, 0, -1)))\n",
    "    disable_ax_ticks(main_ax)\n",
    "    plt.show()"
   ]
  },
  {
   "cell_type": "markdown",
   "metadata": {
    "id": "ysYbVlkDV-sx"
   },
   "source": [
    "## Pick a random example and plot it\n",
    "\n",
    "We want to plot a random image, so we import random and pick a random index using the number of images in train_x as a limit."
   ]
  },
  {
   "cell_type": "code",
   "execution_count": null,
   "metadata": {
    "id": "7Q0BIuT-WDCJ"
   },
   "outputs": [],
   "source": [
    "import random\n",
    "\n",
    "ri = random.randrange(train_x.shape[0])"
   ]
  },
  {
   "cell_type": "markdown",
   "metadata": {
    "id": "-7ckEkjDPxyM"
   },
   "source": [
    "We now render the image, the label indicates how many different FMNIST classes appear in the image.\n",
    "\n",
    "- 0 = All images are the same class\n",
    "- 1 = Two images share the same class\n",
    "- 2 = All images are from different classes"
   ]
  },
  {
   "cell_type": "code",
   "execution_count": null,
   "metadata": {
    "colab": {
     "base_uri": "https://localhost:8080/",
     "height": 454
    },
    "id": "CcEeUqUDPy3w",
    "outputId": "07fdbc5e-1270-4c8b-bb41-6715064eb4a2"
   },
   "outputs": [
    {
     "data": {
      "image/png": "[encoded data removed]",
      "text/plain": [
       "<Figure size 640x480 with 1 Axes>"
      ]
     },
     "metadata": {},
     "output_type": "display_data"
    }
   ],
   "source": [
    "display_image(train_x[ri], train_y[ri])"
   ]
  },
  {
   "cell_type": "markdown",
   "metadata": {
    "id": "pCU_N4BUP3Jp"
   },
   "source": [
    "## Splitting the Image\n",
    "\n",
    "This next section is just to make the dataset easier to understand. We will display the image, and then the three images that make it up seperately."
   ]
  },
  {
   "cell_type": "code",
   "execution_count": null,
   "metadata": {
    "id": "vV6ch7gLWKj0"
   },
   "outputs": [],
   "source": [
    "def show_mnist_examples(x, y):\n",
    "  fig = plt.figure(constrained_layout=True,figsize=(12,9), dpi=100)\n",
    "  gs = fig.add_gridspec(3,4)\n",
    "  main_ax = fig.add_subplot(gs[:3,:3])\n",
    "  fig.suptitle('label = '+ str(y))\n",
    "  main_ax.imshow(image_normalisation(np.moveaxis(x, 0, -1)))\n",
    "  disable_ax_ticks(main_ax)\n",
    "\n",
    "  for j in range(3):\n",
    "      c_ax = fig.add_subplot(gs[j,-1])\n",
    "      subimage = x.copy()\n",
    "      subimage[:j] = 0\n",
    "      subimage[j+1:] = 0\n",
    "      subimage[j] = subimage[j]-subimage[j].min()\n",
    "      c_ax.imshow(image_normalisation(np.moveaxis(subimage, 0, -1)))\n",
    "      disable_ax_ticks(c_ax)\n",
    "  plt.show()"
   ]
  },
  {
   "cell_type": "markdown",
   "metadata": {
    "id": "HtFwRP8XQAq9"
   },
   "source": [
    "Hopefully, you will see the same image rendered early along with the images in the respective colour channels, and you should be able to see which ones share a class from FMNIST and which ones differ. Careful though, as some classes are similar to others."
   ]
  },
  {
   "cell_type": "code",
   "execution_count": null,
   "metadata": {
    "colab": {
     "base_uri": "https://localhost:8080/",
     "height": 928
    },
    "id": "3nBwRxB8QI0J",
    "outputId": "b0eb511c-6aa9-4183-978f-d71caeaaaabc"
   },
   "outputs": [
    {
     "data": {
      "image/png": "[encoded data removed]",
      "text/plain": [
       "<Figure size 1200x900 with 4 Axes>"
      ]
     },
     "metadata": {},
     "output_type": "display_data"
    }
   ],
   "source": [
    "show_mnist_examples(train_x[ri], train_y[ri])"
   ]
  },
  {
   "cell_type": "markdown",
   "metadata": {
    "id": "HrKUW_Y9WHRh"
   },
   "source": [
    "## Your answer below"
   ]
  },
  {
   "cell_type": "code",
   "execution_count": null,
   "metadata": {
    "id": "6FQ4rgPJQMHg"
   },
   "outputs": [],
   "source": []
  },
  {
   "cell_type": "markdown",
   "metadata": {
    "id": "M_1F7ABnVT1l"
   },
   "source": [
    "---\n",
    "---\n",
    "## Project 3: Text dataset (70 marks)\n",
    "\n",
    "Dataset: sentiment analysis dataset (on canvas: (https://ncl.instructure.com/courses/48554/files/6271480?wrap=1), (https://ncl.instructure.com/courses/48554/files/6271483?wrap=1), (https://ncl.instructure.com/courses/48554/files/6271533?wrap=1)).\n",
    "\n",
    "Each sample in the dataset represents a tweet. Each tweet has a sentiment label (Positive, Negative, Neutral).\n",
    "\n",
    "**Task Description:** Apply **a combination of** different approaches including pre-processing techniques, shallow and deep classifiers, ensembled approaches, machine learning approaches beyond supervised learning if applicable, data augmentation if applicable to predict the sentiment of the test set. Try your best to improve the prediction results.\n",
    "\n",
    "Primary **Evaluation metrics: F-1 measure**. Though you should also use others.\n",
    "\n",
    "## Your answer below\n"
   ]
  },
  {
   "cell_type": "code",
   "execution_count": null,
   "metadata": {
    "id": "8aNPkjsUXCkf"
   },
   "outputs": [],
   "source": []
  },
  {
   "cell_type": "markdown",
   "metadata": {
    "id": "CcJGyPXwXDSc"
   },
   "source": [
    "---\n",
    "---\n",
    "## Project 4: Time-serise dataset (70 marks)\n",
    "\n",
    "The Weather dataset is a time-series dataset collected by a Raspberry Pi computer at a home in Newcastle. It contains a bunch of different features about the weather collected over an approximate 12-month period. The features are as follows:\n",
    "\n",
    "| Column no | Feature                                                  |\n",
    "|-----------|----------------------------------------------------------|\n",
    "|         1 | Date and time in standard Linux format                   |\n",
    "|         2 | Temperature from the first internal sensor (Celsius)     |\n",
    "|         3 | Outside temperature (Celsius)                            |\n",
    "|         4 | CPU Temperature (Celsius)                                |\n",
    "|         5 | Count (always 1)                                         |\n",
    "|         6 | Temperature from the second internal sensor (Celsius)    |\n",
    "|         7 | Air Pressure (mmHg)                                      |\n",
    "|         8 | Humidity (percentage)                                    |\n",
    "\n",
    "Readings are measured in one-minute intervals between November 2021 and December 2022. Your task is to try and predict future values 5, 10, 15, 30 minutes into the future along with 1, 2, 6 and 12 hours into the future. I.e. given a time-sequence of measurements before 10:20am on Friday 3rd June 2022 how accurately can you predict the values for 10:25, 10:30, 10:35 and 10:50am and for 11:20, 12:20, 16:20 and 22:20. You can do this for any of the 6 weather features (not date or count). You should separate out a test set of the last 2 months of data (you need to have a continuous and separate test set to prevent leakage between training and testing).\n",
    "\n",
    "The dataset can be downloaded from:\n",
    "http://homepages.cs.ncl.ac.uk/stephen.mcgough/data/weather.csv\n",
    "\n",
    "Some hints:\n",
    "- There is some code below which shows you how to load and view the data to get you started.\n",
    "- In order to score top marks for this dataset you should demonstrate multiple models, at least one of them should not use Deep Learning.\n",
    "- To speed up your work here are some hints (assuming you’re using Colab):\n",
    " - Make sure you set the Runtime type to either GPU or TPU.\n",
    " - Copy the data to your Google drive so you don’t have to keep uploading it.\n",
    " - As the dataset is large you might want to do some of your initial testing on a subset of the data."
   ]
  },
  {
   "cell_type": "markdown",
   "metadata": {
    "id": "3zgvwly0Y4fF"
   },
   "source": [
    "## Access to the files\n",
    "\n",
    "The file is available from: http://homepages.cs.ncl.ac.uk/stephen.mcgough/data/log.txt\n",
    "\n",
    "You can upload the file each time you use them, but this might take some time as they are quite large. An eisier option is to uploade them to a Google drive folder and mount this.\n",
    "\n",
    "Full information on how to do this can be found at: https://colab.research.google.com/notebooks/io.ipynb\n",
    "\n",
    "In the code below I have created a folder in Google drive called data and placed the file above in it."
   ]
  },
  {
   "cell_type": "code",
   "execution_count": null,
   "metadata": {
    "id": "tHj7t9ecYGCW"
   },
   "outputs": [],
   "source": [
    "# to access google drive folder\n",
    "from google.colab import drive\n",
    "drive.mount('/content/drive') # When you run this you'll be prompted for a token - follow the link to generate this."
   ]
  },
  {
   "cell_type": "markdown",
   "metadata": {
    "id": "035fhPkVZH15"
   },
   "source": [
    "## Load the data\n",
    "\n",
    "The data is stored in mumpy data files. You can use numpy.load() to read these in.\n",
    "\n",
    "**Note: you'll need to change the location of the file to wherever you stored your files.**"
   ]
  },
  {
   "cell_type": "code",
   "execution_count": null,
   "metadata": {
    "id": "FZAWKG59ZMZ_"
   },
   "outputs": [],
   "source": [
    "import numpy as np\n",
    "from numpy import genfromtxt\n",
    "\n",
    "data = genfromtxt('/content/drive/MyDrive/data/log.txt', delimiter=',')"
   ]
  },
  {
   "cell_type": "code",
   "execution_count": null,
   "metadata": {
    "id": "OqdzYAfCZQ0h"
   },
   "outputs": [],
   "source": [
    "print(data)"
   ]
  },
  {
   "cell_type": "markdown",
   "metadata": {
    "id": "slx3PlUhZPpv"
   },
   "source": [
    "## Data structure\n",
    "\n",
    "The columns are:\n",
    "0. Date and time\n",
    "1. Inside temperature 1\n",
    "2. Outside temperature\n",
    "3. CPU Temperature\n",
    "4. Count\n",
    "5. Inside temperature 2\n",
    "6. Air Pressure (mmHg)\n",
    "7. Humidity (%)"
   ]
  },
  {
   "cell_type": "code",
   "execution_count": null,
   "metadata": {
    "id": "wr_TRw1RZZDO"
   },
   "outputs": [],
   "source": [
    "import matplotlib.pyplot as plt\n",
    "from matplotlib.pyplot import figure\n",
    "\n",
    "figure(figsize=(10, 10), dpi=80)\n",
    "\n",
    "plt.plot(data[:, [1]])\n",
    "plt.plot(data[:, [2]])\n",
    "plt.plot(data[:, [3]])\n",
    "plt.plot(data[:, [4]])\n",
    "plt.plot(data[:, [5]])\n",
    "plt.plot(data[:, [6]])\n",
    "plt.plot(data[:, [7]])"
   ]
  },
  {
   "cell_type": "markdown",
   "metadata": {
    "id": "oA2pU3n7Zdah"
   },
   "source": [
    "## Your answer below"
   ]
  },
  {
   "cell_type": "code",
   "execution_count": null,
   "metadata": {
    "id": "WX3VgZcGZgHS"
   },
   "outputs": [],
   "source": []
  }
 ],
 "metadata": {
  "colab": {
   "provenance": []
  },
  "kernelspec": {
   "display_name": "Python 3 (ipykernel)",
   "language": "python",
   "name": "python3"
  },
  "language_info": {
   "codemirror_mode": {
    "name": "ipython",
    "version": 3
   },
   "file_extension": ".py",
   "mimetype": "text/x-python",
   "name": "python",
   "nbconvert_exporter": "python",
   "pygments_lexer": "ipython3",
   "version": "3.12.0"
  }
 },
 "nbformat": 4,
 "nbformat_minor": 4
}
